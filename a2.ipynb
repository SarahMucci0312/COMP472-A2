{
 "cells": [
  {
   "cell_type": "code",
   "execution_count": 7,
   "metadata": {
    "ExecuteTime": {
     "end_time": "2023-12-03T21:31:15.116473Z",
     "start_time": "2023-12-03T21:31:15.111813Z"
    }
   },
   "outputs": [
    {
     "name": "stderr",
     "output_type": "stream",
     "text": [
      "[nltk_data] Downloading package punkt to /Users/carmen/nltk_data...\n",
      "[nltk_data]   Package punkt is already up-to-date!\n"
     ]
    }
   ],
   "source": [
    "# Imports\n",
    "from gensim import downloader as api\n",
    "import csv\n",
    "import random\n",
    "import numpy as np\n",
    "import matplotlib.pyplot as plt\n",
    "import nltk\n",
    "from nltk.tokenize import sent_tokenize, word_tokenize\n",
    "nltk.download('punkt')  # Punkt module is needed for NLTK's sentence tokenizer\n",
    "from gensim.models import Word2Vec"
   ]
  },
  {
   "cell_type": "code",
   "execution_count": 118,
   "metadata": {
    "ExecuteTime": {
     "end_time": "2023-12-04T03:32:08.569803Z",
     "start_time": "2023-12-04T03:28:40.504887Z"
    }
   },
   "outputs": [
    {
     "name": "stdout",
     "output_type": "stream",
     "text": [
      "[--------------------------------------------------] 1.4% 23.4/1662.8MB downloaded"
     ]
    },
    {
     "name": "stderr",
     "output_type": "stream",
     "text": [
      "IOPub message rate exceeded.\n",
      "The Jupyter server will temporarily stop sending output\n",
      "to the client in order to avoid crashing it.\n",
      "To change this limit, set the config variable\n",
      "`--ServerApp.iopub_msg_rate_limit`.\n",
      "\n",
      "Current values:\n",
      "ServerApp.iopub_msg_rate_limit=1000.0 (msgs/sec)\n",
      "ServerApp.rate_limit_window=3.0 (secs)\n",
      "\n"
     ]
    },
    {
     "name": "stdout",
     "output_type": "stream",
     "text": [
      "[=-------------------------------------------------] 3.3% 55.3/1662.8MB downloaded"
     ]
    },
    {
     "name": "stderr",
     "output_type": "stream",
     "text": [
      "IOPub message rate exceeded.\n",
      "The Jupyter server will temporarily stop sending output\n",
      "to the client in order to avoid crashing it.\n",
      "To change this limit, set the config variable\n",
      "`--ServerApp.iopub_msg_rate_limit`.\n",
      "\n",
      "Current values:\n",
      "ServerApp.iopub_msg_rate_limit=1000.0 (msgs/sec)\n",
      "ServerApp.rate_limit_window=3.0 (secs)\n",
      "\n"
     ]
    },
    {
     "name": "stdout",
     "output_type": "stream",
     "text": [
      "[==------------------------------------------------] 5.2% 87.1/1662.8MB downloaded"
     ]
    },
    {
     "name": "stderr",
     "output_type": "stream",
     "text": [
      "IOPub message rate exceeded.\n",
      "The Jupyter server will temporarily stop sending output\n",
      "to the client in order to avoid crashing it.\n",
      "To change this limit, set the config variable\n",
      "`--ServerApp.iopub_msg_rate_limit`.\n",
      "\n",
      "Current values:\n",
      "ServerApp.iopub_msg_rate_limit=1000.0 (msgs/sec)\n",
      "ServerApp.rate_limit_window=3.0 (secs)\n",
      "\n"
     ]
    },
    {
     "name": "stdout",
     "output_type": "stream",
     "text": [
      "[===-----------------------------------------------] 7.3% 121.0/1662.8MB downloaded"
     ]
    },
    {
     "name": "stderr",
     "output_type": "stream",
     "text": [
      "IOPub message rate exceeded.\n",
      "The Jupyter server will temporarily stop sending output\n",
      "to the client in order to avoid crashing it.\n",
      "To change this limit, set the config variable\n",
      "`--ServerApp.iopub_msg_rate_limit`.\n",
      "\n",
      "Current values:\n",
      "ServerApp.iopub_msg_rate_limit=1000.0 (msgs/sec)\n",
      "ServerApp.rate_limit_window=3.0 (secs)\n",
      "\n"
     ]
    },
    {
     "name": "stdout",
     "output_type": "stream",
     "text": [
      "[====----------------------------------------------] 9.4% 156.0/1662.8MB downloaded"
     ]
    },
    {
     "name": "stderr",
     "output_type": "stream",
     "text": [
      "IOPub message rate exceeded.\n",
      "The Jupyter server will temporarily stop sending output\n",
      "to the client in order to avoid crashing it.\n",
      "To change this limit, set the config variable\n",
      "`--ServerApp.iopub_msg_rate_limit`.\n",
      "\n",
      "Current values:\n",
      "ServerApp.iopub_msg_rate_limit=1000.0 (msgs/sec)\n",
      "ServerApp.rate_limit_window=3.0 (secs)\n",
      "\n"
     ]
    },
    {
     "name": "stdout",
     "output_type": "stream",
     "text": [
      "[=====---------------------------------------------] 11.5% 190.9/1662.8MB downloaded"
     ]
    },
    {
     "name": "stderr",
     "output_type": "stream",
     "text": [
      "IOPub message rate exceeded.\n",
      "The Jupyter server will temporarily stop sending output\n",
      "to the client in order to avoid crashing it.\n",
      "To change this limit, set the config variable\n",
      "`--ServerApp.iopub_msg_rate_limit`.\n",
      "\n",
      "Current values:\n",
      "ServerApp.iopub_msg_rate_limit=1000.0 (msgs/sec)\n",
      "ServerApp.rate_limit_window=3.0 (secs)\n",
      "\n"
     ]
    },
    {
     "name": "stdout",
     "output_type": "stream",
     "text": [
      "[======--------------------------------------------] 13.2% 219.0/1662.8MB downloaded"
     ]
    },
    {
     "name": "stderr",
     "output_type": "stream",
     "text": [
      "IOPub message rate exceeded.\n",
      "The Jupyter server will temporarily stop sending output\n",
      "to the client in order to avoid crashing it.\n",
      "To change this limit, set the config variable\n",
      "`--ServerApp.iopub_msg_rate_limit`.\n",
      "\n",
      "Current values:\n",
      "ServerApp.iopub_msg_rate_limit=1000.0 (msgs/sec)\n",
      "ServerApp.rate_limit_window=3.0 (secs)\n",
      "\n"
     ]
    },
    {
     "name": "stdout",
     "output_type": "stream",
     "text": [
      "[=======-------------------------------------------] 15.3% 254.3/1662.8MB downloaded"
     ]
    },
    {
     "name": "stderr",
     "output_type": "stream",
     "text": [
      "IOPub message rate exceeded.\n",
      "The Jupyter server will temporarily stop sending output\n",
      "to the client in order to avoid crashing it.\n",
      "To change this limit, set the config variable\n",
      "`--ServerApp.iopub_msg_rate_limit`.\n",
      "\n",
      "Current values:\n",
      "ServerApp.iopub_msg_rate_limit=1000.0 (msgs/sec)\n",
      "ServerApp.rate_limit_window=3.0 (secs)\n",
      "\n"
     ]
    },
    {
     "name": "stdout",
     "output_type": "stream",
     "text": [
      "[========------------------------------------------] 17.2% 285.8/1662.8MB downloaded"
     ]
    },
    {
     "name": "stderr",
     "output_type": "stream",
     "text": [
      "IOPub message rate exceeded.\n",
      "The Jupyter server will temporarily stop sending output\n",
      "to the client in order to avoid crashing it.\n",
      "To change this limit, set the config variable\n",
      "`--ServerApp.iopub_msg_rate_limit`.\n",
      "\n",
      "Current values:\n",
      "ServerApp.iopub_msg_rate_limit=1000.0 (msgs/sec)\n",
      "ServerApp.rate_limit_window=3.0 (secs)\n",
      "\n"
     ]
    },
    {
     "name": "stdout",
     "output_type": "stream",
     "text": [
      "[=========-----------------------------------------] 19.3% 321.0/1662.8MB downloaded"
     ]
    },
    {
     "name": "stderr",
     "output_type": "stream",
     "text": [
      "IOPub message rate exceeded.\n",
      "The Jupyter server will temporarily stop sending output\n",
      "to the client in order to avoid crashing it.\n",
      "To change this limit, set the config variable\n",
      "`--ServerApp.iopub_msg_rate_limit`.\n",
      "\n",
      "Current values:\n",
      "ServerApp.iopub_msg_rate_limit=1000.0 (msgs/sec)\n",
      "ServerApp.rate_limit_window=3.0 (secs)\n",
      "\n"
     ]
    },
    {
     "name": "stdout",
     "output_type": "stream",
     "text": [
      "[==========----------------------------------------] 21.5% 358.2/1662.8MB downloaded"
     ]
    },
    {
     "name": "stderr",
     "output_type": "stream",
     "text": [
      "IOPub message rate exceeded.\n",
      "The Jupyter server will temporarily stop sending output\n",
      "to the client in order to avoid crashing it.\n",
      "To change this limit, set the config variable\n",
      "`--ServerApp.iopub_msg_rate_limit`.\n",
      "\n",
      "Current values:\n",
      "ServerApp.iopub_msg_rate_limit=1000.0 (msgs/sec)\n",
      "ServerApp.rate_limit_window=3.0 (secs)\n",
      "\n"
     ]
    },
    {
     "name": "stdout",
     "output_type": "stream",
     "text": [
      "[===========---------------------------------------] 23.8% 395.7/1662.8MB downloaded"
     ]
    },
    {
     "name": "stderr",
     "output_type": "stream",
     "text": [
      "IOPub message rate exceeded.\n",
      "The Jupyter server will temporarily stop sending output\n",
      "to the client in order to avoid crashing it.\n",
      "To change this limit, set the config variable\n",
      "`--ServerApp.iopub_msg_rate_limit`.\n",
      "\n",
      "Current values:\n",
      "ServerApp.iopub_msg_rate_limit=1000.0 (msgs/sec)\n",
      "ServerApp.rate_limit_window=3.0 (secs)\n",
      "\n"
     ]
    },
    {
     "name": "stdout",
     "output_type": "stream",
     "text": [
      "[=============-------------------------------------] 26.2% 435.5/1662.8MB downloaded"
     ]
    },
    {
     "name": "stderr",
     "output_type": "stream",
     "text": [
      "IOPub message rate exceeded.\n",
      "The Jupyter server will temporarily stop sending output\n",
      "to the client in order to avoid crashing it.\n",
      "To change this limit, set the config variable\n",
      "`--ServerApp.iopub_msg_rate_limit`.\n",
      "\n",
      "Current values:\n",
      "ServerApp.iopub_msg_rate_limit=1000.0 (msgs/sec)\n",
      "ServerApp.rate_limit_window=3.0 (secs)\n",
      "\n"
     ]
    },
    {
     "name": "stdout",
     "output_type": "stream",
     "text": [
      "[==============------------------------------------] 28.9% 479.7/1662.8MB downloaded"
     ]
    },
    {
     "name": "stderr",
     "output_type": "stream",
     "text": [
      "IOPub message rate exceeded.\n",
      "The Jupyter server will temporarily stop sending output\n",
      "to the client in order to avoid crashing it.\n",
      "To change this limit, set the config variable\n",
      "`--ServerApp.iopub_msg_rate_limit`.\n",
      "\n",
      "Current values:\n",
      "ServerApp.iopub_msg_rate_limit=1000.0 (msgs/sec)\n",
      "ServerApp.rate_limit_window=3.0 (secs)\n",
      "\n"
     ]
    },
    {
     "name": "stdout",
     "output_type": "stream",
     "text": [
      "[===============-----------------------------------] 31.1% 517.1/1662.8MB downloaded"
     ]
    },
    {
     "name": "stderr",
     "output_type": "stream",
     "text": [
      "IOPub message rate exceeded.\n",
      "The Jupyter server will temporarily stop sending output\n",
      "to the client in order to avoid crashing it.\n",
      "To change this limit, set the config variable\n",
      "`--ServerApp.iopub_msg_rate_limit`.\n",
      "\n",
      "Current values:\n",
      "ServerApp.iopub_msg_rate_limit=1000.0 (msgs/sec)\n",
      "ServerApp.rate_limit_window=3.0 (secs)\n",
      "\n"
     ]
    },
    {
     "name": "stdout",
     "output_type": "stream",
     "text": [
      "[================----------------------------------] 33.2% 551.4/1662.8MB downloaded"
     ]
    },
    {
     "name": "stderr",
     "output_type": "stream",
     "text": [
      "IOPub message rate exceeded.\n",
      "The Jupyter server will temporarily stop sending output\n",
      "to the client in order to avoid crashing it.\n",
      "To change this limit, set the config variable\n",
      "`--ServerApp.iopub_msg_rate_limit`.\n",
      "\n",
      "Current values:\n",
      "ServerApp.iopub_msg_rate_limit=1000.0 (msgs/sec)\n",
      "ServerApp.rate_limit_window=3.0 (secs)\n",
      "\n"
     ]
    },
    {
     "name": "stdout",
     "output_type": "stream",
     "text": [
      "[=================---------------------------------] 35.7% 593.7/1662.8MB downloaded"
     ]
    },
    {
     "name": "stderr",
     "output_type": "stream",
     "text": [
      "IOPub message rate exceeded.\n",
      "The Jupyter server will temporarily stop sending output\n",
      "to the client in order to avoid crashing it.\n",
      "To change this limit, set the config variable\n",
      "`--ServerApp.iopub_msg_rate_limit`.\n",
      "\n",
      "Current values:\n",
      "ServerApp.iopub_msg_rate_limit=1000.0 (msgs/sec)\n",
      "ServerApp.rate_limit_window=3.0 (secs)\n",
      "\n"
     ]
    },
    {
     "name": "stdout",
     "output_type": "stream",
     "text": [
      "[==================--------------------------------] 37.9% 629.8/1662.8MB downloaded"
     ]
    },
    {
     "name": "stderr",
     "output_type": "stream",
     "text": [
      "IOPub message rate exceeded.\n",
      "The Jupyter server will temporarily stop sending output\n",
      "to the client in order to avoid crashing it.\n",
      "To change this limit, set the config variable\n",
      "`--ServerApp.iopub_msg_rate_limit`.\n",
      "\n",
      "Current values:\n",
      "ServerApp.iopub_msg_rate_limit=1000.0 (msgs/sec)\n",
      "ServerApp.rate_limit_window=3.0 (secs)\n",
      "\n"
     ]
    },
    {
     "name": "stdout",
     "output_type": "stream",
     "text": [
      "[====================------------------------------] 40.5% 672.9/1662.8MB downloaded"
     ]
    },
    {
     "name": "stderr",
     "output_type": "stream",
     "text": [
      "IOPub message rate exceeded.\n",
      "The Jupyter server will temporarily stop sending output\n",
      "to the client in order to avoid crashing it.\n",
      "To change this limit, set the config variable\n",
      "`--ServerApp.iopub_msg_rate_limit`.\n",
      "\n",
      "Current values:\n",
      "ServerApp.iopub_msg_rate_limit=1000.0 (msgs/sec)\n",
      "ServerApp.rate_limit_window=3.0 (secs)\n",
      "\n"
     ]
    },
    {
     "name": "stdout",
     "output_type": "stream",
     "text": [
      "[=====================-----------------------------] 42.9% 713.9/1662.8MB downloaded"
     ]
    },
    {
     "name": "stderr",
     "output_type": "stream",
     "text": [
      "IOPub message rate exceeded.\n",
      "The Jupyter server will temporarily stop sending output\n",
      "to the client in order to avoid crashing it.\n",
      "To change this limit, set the config variable\n",
      "`--ServerApp.iopub_msg_rate_limit`.\n",
      "\n",
      "Current values:\n",
      "ServerApp.iopub_msg_rate_limit=1000.0 (msgs/sec)\n",
      "ServerApp.rate_limit_window=3.0 (secs)\n",
      "\n"
     ]
    },
    {
     "name": "stdout",
     "output_type": "stream",
     "text": [
      "[======================----------------------------] 45.5% 756.0/1662.8MB downloaded"
     ]
    },
    {
     "name": "stderr",
     "output_type": "stream",
     "text": [
      "IOPub message rate exceeded.\n",
      "The Jupyter server will temporarily stop sending output\n",
      "to the client in order to avoid crashing it.\n",
      "To change this limit, set the config variable\n",
      "`--ServerApp.iopub_msg_rate_limit`.\n",
      "\n",
      "Current values:\n",
      "ServerApp.iopub_msg_rate_limit=1000.0 (msgs/sec)\n",
      "ServerApp.rate_limit_window=3.0 (secs)\n",
      "\n"
     ]
    },
    {
     "name": "stdout",
     "output_type": "stream",
     "text": [
      "[=======================---------------------------] 47.9% 795.8/1662.8MB downloaded"
     ]
    },
    {
     "name": "stderr",
     "output_type": "stream",
     "text": [
      "IOPub message rate exceeded.\n",
      "The Jupyter server will temporarily stop sending output\n",
      "to the client in order to avoid crashing it.\n",
      "To change this limit, set the config variable\n",
      "`--ServerApp.iopub_msg_rate_limit`.\n",
      "\n",
      "Current values:\n",
      "ServerApp.iopub_msg_rate_limit=1000.0 (msgs/sec)\n",
      "ServerApp.rate_limit_window=3.0 (secs)\n",
      "\n"
     ]
    },
    {
     "name": "stdout",
     "output_type": "stream",
     "text": [
      "[========================--------------------------] 49.8% 827.7/1662.8MB downloaded"
     ]
    },
    {
     "name": "stderr",
     "output_type": "stream",
     "text": [
      "IOPub message rate exceeded.\n",
      "The Jupyter server will temporarily stop sending output\n",
      "to the client in order to avoid crashing it.\n",
      "To change this limit, set the config variable\n",
      "`--ServerApp.iopub_msg_rate_limit`.\n",
      "\n",
      "Current values:\n",
      "ServerApp.iopub_msg_rate_limit=1000.0 (msgs/sec)\n",
      "ServerApp.rate_limit_window=3.0 (secs)\n",
      "\n"
     ]
    },
    {
     "name": "stdout",
     "output_type": "stream",
     "text": [
      "[==========================------------------------] 52.5% 873.6/1662.8MB downloaded"
     ]
    },
    {
     "name": "stderr",
     "output_type": "stream",
     "text": [
      "IOPub message rate exceeded.\n",
      "The Jupyter server will temporarily stop sending output\n",
      "to the client in order to avoid crashing it.\n",
      "To change this limit, set the config variable\n",
      "`--ServerApp.iopub_msg_rate_limit`.\n",
      "\n",
      "Current values:\n",
      "ServerApp.iopub_msg_rate_limit=1000.0 (msgs/sec)\n",
      "ServerApp.rate_limit_window=3.0 (secs)\n",
      "\n"
     ]
    },
    {
     "name": "stdout",
     "output_type": "stream",
     "text": [
      "[===========================-----------------------] 55.8% 927.8/1662.8MB downloaded"
     ]
    },
    {
     "name": "stderr",
     "output_type": "stream",
     "text": [
      "IOPub message rate exceeded.\n",
      "The Jupyter server will temporarily stop sending output\n",
      "to the client in order to avoid crashing it.\n",
      "To change this limit, set the config variable\n",
      "`--ServerApp.iopub_msg_rate_limit`.\n",
      "\n",
      "Current values:\n",
      "ServerApp.iopub_msg_rate_limit=1000.0 (msgs/sec)\n",
      "ServerApp.rate_limit_window=3.0 (secs)\n",
      "\n"
     ]
    },
    {
     "name": "stdout",
     "output_type": "stream",
     "text": [
      "[============================----------------------] 57.2% 951.0/1662.8MB downloaded"
     ]
    },
    {
     "name": "stderr",
     "output_type": "stream",
     "text": [
      "IOPub message rate exceeded.\n",
      "The Jupyter server will temporarily stop sending output\n",
      "to the client in order to avoid crashing it.\n",
      "To change this limit, set the config variable\n",
      "`--ServerApp.iopub_msg_rate_limit`.\n",
      "\n",
      "Current values:\n",
      "ServerApp.iopub_msg_rate_limit=1000.0 (msgs/sec)\n",
      "ServerApp.rate_limit_window=3.0 (secs)\n",
      "\n"
     ]
    },
    {
     "name": "stdout",
     "output_type": "stream",
     "text": [
      "[=============================---------------------] 58.9% 978.8/1662.8MB downloaded"
     ]
    },
    {
     "name": "stderr",
     "output_type": "stream",
     "text": [
      "IOPub message rate exceeded.\n",
      "The Jupyter server will temporarily stop sending output\n",
      "to the client in order to avoid crashing it.\n",
      "To change this limit, set the config variable\n",
      "`--ServerApp.iopub_msg_rate_limit`.\n",
      "\n",
      "Current values:\n",
      "ServerApp.iopub_msg_rate_limit=1000.0 (msgs/sec)\n",
      "ServerApp.rate_limit_window=3.0 (secs)\n",
      "\n"
     ]
    },
    {
     "name": "stdout",
     "output_type": "stream",
     "text": [
      "[==============================--------------------] 60.4% 1004.4/1662.8MB downloaded"
     ]
    },
    {
     "name": "stderr",
     "output_type": "stream",
     "text": [
      "IOPub message rate exceeded.\n",
      "The Jupyter server will temporarily stop sending output\n",
      "to the client in order to avoid crashing it.\n",
      "To change this limit, set the config variable\n",
      "`--ServerApp.iopub_msg_rate_limit`.\n",
      "\n",
      "Current values:\n",
      "ServerApp.iopub_msg_rate_limit=1000.0 (msgs/sec)\n",
      "ServerApp.rate_limit_window=3.0 (secs)\n",
      "\n"
     ]
    },
    {
     "name": "stdout",
     "output_type": "stream",
     "text": [
      "[==============================--------------------] 61.6% 1024.1/1662.8MB downloaded"
     ]
    },
    {
     "name": "stderr",
     "output_type": "stream",
     "text": [
      "IOPub message rate exceeded.\n",
      "The Jupyter server will temporarily stop sending output\n",
      "to the client in order to avoid crashing it.\n",
      "To change this limit, set the config variable\n",
      "`--ServerApp.iopub_msg_rate_limit`.\n",
      "\n",
      "Current values:\n",
      "ServerApp.iopub_msg_rate_limit=1000.0 (msgs/sec)\n",
      "ServerApp.rate_limit_window=3.0 (secs)\n",
      "\n"
     ]
    },
    {
     "name": "stdout",
     "output_type": "stream",
     "text": [
      "[===============================-------------------] 62.8% 1044.9/1662.8MB downloaded"
     ]
    },
    {
     "name": "stderr",
     "output_type": "stream",
     "text": [
      "IOPub message rate exceeded.\n",
      "The Jupyter server will temporarily stop sending output\n",
      "to the client in order to avoid crashing it.\n",
      "To change this limit, set the config variable\n",
      "`--ServerApp.iopub_msg_rate_limit`.\n",
      "\n",
      "Current values:\n",
      "ServerApp.iopub_msg_rate_limit=1000.0 (msgs/sec)\n",
      "ServerApp.rate_limit_window=3.0 (secs)\n",
      "\n"
     ]
    },
    {
     "name": "stdout",
     "output_type": "stream",
     "text": [
      "[================================------------------] 64.6% 1073.6/1662.8MB downloaded"
     ]
    },
    {
     "name": "stderr",
     "output_type": "stream",
     "text": [
      "IOPub message rate exceeded.\n",
      "The Jupyter server will temporarily stop sending output\n",
      "to the client in order to avoid crashing it.\n",
      "To change this limit, set the config variable\n",
      "`--ServerApp.iopub_msg_rate_limit`.\n",
      "\n",
      "Current values:\n",
      "ServerApp.iopub_msg_rate_limit=1000.0 (msgs/sec)\n",
      "ServerApp.rate_limit_window=3.0 (secs)\n",
      "\n"
     ]
    },
    {
     "name": "stdout",
     "output_type": "stream",
     "text": [
      "[================================------------------] 66.0% 1097.3/1662.8MB downloaded"
     ]
    },
    {
     "name": "stderr",
     "output_type": "stream",
     "text": [
      "IOPub message rate exceeded.\n",
      "The Jupyter server will temporarily stop sending output\n",
      "to the client in order to avoid crashing it.\n",
      "To change this limit, set the config variable\n",
      "`--ServerApp.iopub_msg_rate_limit`.\n",
      "\n",
      "Current values:\n",
      "ServerApp.iopub_msg_rate_limit=1000.0 (msgs/sec)\n",
      "ServerApp.rate_limit_window=3.0 (secs)\n",
      "\n"
     ]
    },
    {
     "name": "stdout",
     "output_type": "stream",
     "text": [
      "[=================================-----------------] 67.8% 1127.5/1662.8MB downloaded"
     ]
    },
    {
     "name": "stderr",
     "output_type": "stream",
     "text": [
      "IOPub message rate exceeded.\n",
      "The Jupyter server will temporarily stop sending output\n",
      "to the client in order to avoid crashing it.\n",
      "To change this limit, set the config variable\n",
      "`--ServerApp.iopub_msg_rate_limit`.\n",
      "\n",
      "Current values:\n",
      "ServerApp.iopub_msg_rate_limit=1000.0 (msgs/sec)\n",
      "ServerApp.rate_limit_window=3.0 (secs)\n",
      "\n"
     ]
    },
    {
     "name": "stdout",
     "output_type": "stream",
     "text": [
      "[==================================----------------] 69.3% 1152.6/1662.8MB downloaded"
     ]
    },
    {
     "name": "stderr",
     "output_type": "stream",
     "text": [
      "IOPub message rate exceeded.\n",
      "The Jupyter server will temporarily stop sending output\n",
      "to the client in order to avoid crashing it.\n",
      "To change this limit, set the config variable\n",
      "`--ServerApp.iopub_msg_rate_limit`.\n",
      "\n",
      "Current values:\n",
      "ServerApp.iopub_msg_rate_limit=1000.0 (msgs/sec)\n",
      "ServerApp.rate_limit_window=3.0 (secs)\n",
      "\n"
     ]
    },
    {
     "name": "stdout",
     "output_type": "stream",
     "text": [
      "[===================================---------------] 71.2% 1183.3/1662.8MB downloaded"
     ]
    },
    {
     "name": "stderr",
     "output_type": "stream",
     "text": [
      "IOPub message rate exceeded.\n",
      "The Jupyter server will temporarily stop sending output\n",
      "to the client in order to avoid crashing it.\n",
      "To change this limit, set the config variable\n",
      "`--ServerApp.iopub_msg_rate_limit`.\n",
      "\n",
      "Current values:\n",
      "ServerApp.iopub_msg_rate_limit=1000.0 (msgs/sec)\n",
      "ServerApp.rate_limit_window=3.0 (secs)\n",
      "\n"
     ]
    },
    {
     "name": "stdout",
     "output_type": "stream",
     "text": [
      "[====================================--------------] 72.5% 1205.7/1662.8MB downloaded"
     ]
    },
    {
     "name": "stderr",
     "output_type": "stream",
     "text": [
      "IOPub message rate exceeded.\n",
      "The Jupyter server will temporarily stop sending output\n",
      "to the client in order to avoid crashing it.\n",
      "To change this limit, set the config variable\n",
      "`--ServerApp.iopub_msg_rate_limit`.\n",
      "\n",
      "Current values:\n",
      "ServerApp.iopub_msg_rate_limit=1000.0 (msgs/sec)\n",
      "ServerApp.rate_limit_window=3.0 (secs)\n",
      "\n"
     ]
    },
    {
     "name": "stdout",
     "output_type": "stream",
     "text": [
      "[=====================================-------------] 74.5% 1238.1/1662.8MB downloaded"
     ]
    },
    {
     "name": "stderr",
     "output_type": "stream",
     "text": [
      "IOPub message rate exceeded.\n",
      "The Jupyter server will temporarily stop sending output\n",
      "to the client in order to avoid crashing it.\n",
      "To change this limit, set the config variable\n",
      "`--ServerApp.iopub_msg_rate_limit`.\n",
      "\n",
      "Current values:\n",
      "ServerApp.iopub_msg_rate_limit=1000.0 (msgs/sec)\n",
      "ServerApp.rate_limit_window=3.0 (secs)\n",
      "\n"
     ]
    },
    {
     "name": "stdout",
     "output_type": "stream",
     "text": [
      "[=====================================-------------] 75.7% 1259.2/1662.8MB downloaded"
     ]
    },
    {
     "name": "stderr",
     "output_type": "stream",
     "text": [
      "IOPub message rate exceeded.\n",
      "The Jupyter server will temporarily stop sending output\n",
      "to the client in order to avoid crashing it.\n",
      "To change this limit, set the config variable\n",
      "`--ServerApp.iopub_msg_rate_limit`.\n",
      "\n",
      "Current values:\n",
      "ServerApp.iopub_msg_rate_limit=1000.0 (msgs/sec)\n",
      "ServerApp.rate_limit_window=3.0 (secs)\n",
      "\n"
     ]
    },
    {
     "name": "stdout",
     "output_type": "stream",
     "text": [
      "[======================================------------] 77.4% 1287.6/1662.8MB downloaded"
     ]
    },
    {
     "name": "stderr",
     "output_type": "stream",
     "text": [
      "IOPub message rate exceeded.\n",
      "The Jupyter server will temporarily stop sending output\n",
      "to the client in order to avoid crashing it.\n",
      "To change this limit, set the config variable\n",
      "`--ServerApp.iopub_msg_rate_limit`.\n",
      "\n",
      "Current values:\n",
      "ServerApp.iopub_msg_rate_limit=1000.0 (msgs/sec)\n",
      "ServerApp.rate_limit_window=3.0 (secs)\n",
      "\n"
     ]
    },
    {
     "name": "stdout",
     "output_type": "stream",
     "text": [
      "[=======================================-----------] 79.7% 1325.8/1662.8MB downloaded"
     ]
    },
    {
     "name": "stderr",
     "output_type": "stream",
     "text": [
      "IOPub message rate exceeded.\n",
      "The Jupyter server will temporarily stop sending output\n",
      "to the client in order to avoid crashing it.\n",
      "To change this limit, set the config variable\n",
      "`--ServerApp.iopub_msg_rate_limit`.\n",
      "\n",
      "Current values:\n",
      "ServerApp.iopub_msg_rate_limit=1000.0 (msgs/sec)\n",
      "ServerApp.rate_limit_window=3.0 (secs)\n",
      "\n"
     ]
    },
    {
     "name": "stdout",
     "output_type": "stream",
     "text": [
      "[=========================================---------] 82.3% 1369.0/1662.8MB downloaded"
     ]
    },
    {
     "name": "stderr",
     "output_type": "stream",
     "text": [
      "IOPub message rate exceeded.\n",
      "The Jupyter server will temporarily stop sending output\n",
      "to the client in order to avoid crashing it.\n",
      "To change this limit, set the config variable\n",
      "`--ServerApp.iopub_msg_rate_limit`.\n",
      "\n",
      "Current values:\n",
      "ServerApp.iopub_msg_rate_limit=1000.0 (msgs/sec)\n",
      "ServerApp.rate_limit_window=3.0 (secs)\n",
      "\n"
     ]
    },
    {
     "name": "stdout",
     "output_type": "stream",
     "text": [
      "[==========================================--------] 84.6% 1407.5/1662.8MB downloaded"
     ]
    },
    {
     "name": "stderr",
     "output_type": "stream",
     "text": [
      "IOPub message rate exceeded.\n",
      "The Jupyter server will temporarily stop sending output\n",
      "to the client in order to avoid crashing it.\n",
      "To change this limit, set the config variable\n",
      "`--ServerApp.iopub_msg_rate_limit`.\n",
      "\n",
      "Current values:\n",
      "ServerApp.iopub_msg_rate_limit=1000.0 (msgs/sec)\n",
      "ServerApp.rate_limit_window=3.0 (secs)\n",
      "\n"
     ]
    },
    {
     "name": "stdout",
     "output_type": "stream",
     "text": [
      "[===========================================-------] 87.3% 1451.8/1662.8MB downloaded"
     ]
    },
    {
     "name": "stderr",
     "output_type": "stream",
     "text": [
      "IOPub message rate exceeded.\n",
      "The Jupyter server will temporarily stop sending output\n",
      "to the client in order to avoid crashing it.\n",
      "To change this limit, set the config variable\n",
      "`--ServerApp.iopub_msg_rate_limit`.\n",
      "\n",
      "Current values:\n",
      "ServerApp.iopub_msg_rate_limit=1000.0 (msgs/sec)\n",
      "ServerApp.rate_limit_window=3.0 (secs)\n",
      "\n"
     ]
    },
    {
     "name": "stdout",
     "output_type": "stream",
     "text": [
      "[============================================------] 89.9% 1494.1/1662.8MB downloaded"
     ]
    },
    {
     "name": "stderr",
     "output_type": "stream",
     "text": [
      "IOPub message rate exceeded.\n",
      "The Jupyter server will temporarily stop sending output\n",
      "to the client in order to avoid crashing it.\n",
      "To change this limit, set the config variable\n",
      "`--ServerApp.iopub_msg_rate_limit`.\n",
      "\n",
      "Current values:\n",
      "ServerApp.iopub_msg_rate_limit=1000.0 (msgs/sec)\n",
      "ServerApp.rate_limit_window=3.0 (secs)\n",
      "\n"
     ]
    },
    {
     "name": "stdout",
     "output_type": "stream",
     "text": [
      "[==============================================----] 92.3% 1534.0/1662.8MB downloaded"
     ]
    },
    {
     "name": "stderr",
     "output_type": "stream",
     "text": [
      "IOPub message rate exceeded.\n",
      "The Jupyter server will temporarily stop sending output\n",
      "to the client in order to avoid crashing it.\n",
      "To change this limit, set the config variable\n",
      "`--ServerApp.iopub_msg_rate_limit`.\n",
      "\n",
      "Current values:\n",
      "ServerApp.iopub_msg_rate_limit=1000.0 (msgs/sec)\n",
      "ServerApp.rate_limit_window=3.0 (secs)\n",
      "\n"
     ]
    },
    {
     "name": "stdout",
     "output_type": "stream",
     "text": [
      "[===============================================---] 94.5% 1570.9/1662.8MB downloaded"
     ]
    },
    {
     "name": "stderr",
     "output_type": "stream",
     "text": [
      "IOPub message rate exceeded.\n",
      "The Jupyter server will temporarily stop sending output\n",
      "to the client in order to avoid crashing it.\n",
      "To change this limit, set the config variable\n",
      "`--ServerApp.iopub_msg_rate_limit`.\n",
      "\n",
      "Current values:\n",
      "ServerApp.iopub_msg_rate_limit=1000.0 (msgs/sec)\n",
      "ServerApp.rate_limit_window=3.0 (secs)\n",
      "\n"
     ]
    },
    {
     "name": "stdout",
     "output_type": "stream",
     "text": [
      "[================================================--] 97.5% 1621.5/1662.8MB downloaded"
     ]
    },
    {
     "name": "stderr",
     "output_type": "stream",
     "text": [
      "IOPub message rate exceeded.\n",
      "The Jupyter server will temporarily stop sending output\n",
      "to the client in order to avoid crashing it.\n",
      "To change this limit, set the config variable\n",
      "`--ServerApp.iopub_msg_rate_limit`.\n",
      "\n",
      "Current values:\n",
      "ServerApp.iopub_msg_rate_limit=1000.0 (msgs/sec)\n",
      "ServerApp.rate_limit_window=3.0 (secs)\n",
      "\n"
     ]
    },
    {
     "name": "stdout",
     "output_type": "stream",
     "text": [
      "[==================================================] 100.0% 1662.8/1662.8MB downloaded\n"
     ]
    }
   ],
   "source": [
    "# Task 1\n",
    "\n",
    "# Load pre-trained model\n",
    "model = api.load(\"word2vec-google-news-300\") "
   ]
  },
  {
   "cell_type": "code",
   "execution_count": 119,
   "metadata": {
    "ExecuteTime": {
     "end_time": "2023-12-04T03:33:07.492579Z",
     "start_time": "2023-12-04T03:33:07.382161Z"
    }
   },
   "outputs": [],
   "source": [
    "# Global Variables\n",
    "correct = 0 # variable to count correct guess words\n",
    "valid = 0 # variable to count valid guess words\n",
    "label = \"guess\" # variable to label system's guess result\n",
    "score_dict = {} # dictionary for score-word pairs\n",
    "\n",
    "\n",
    "# Open synonym.csv in read mode\n",
    "with open('synonym.csv', mode='r') as dataset:\n",
    "\n",
    "    csv_reader = csv.reader(dataset, delimiter=',')\n",
    "    linecount = 0 # variable to count number of lines\n",
    "    \n",
    "    # Open word2vec-google-news-300-details.csv in write mode\n",
    "    with open('word2vec-google-news-300-details.csv', mode='w', newline='') as details:\n",
    "        csv_writer = csv.writer(details)\n",
    "\n",
    "        # For every row in synonym.csv\n",
    "        for row in csv_reader:\n",
    "            # csv Headings\n",
    "            if linecount == 0:\n",
    "                csv_writer.writerow(['question-word', 'answer-word', 'guess-word', 'label'])\n",
    "            else:\n",
    "                \n",
    "                score_dict = {} # dictionary for score-word pairs\n",
    "                inModel = True # variable used for checking valid guesses\n",
    "                random_word = random.randint(2,5) # random integer between 2 and 5 (inclusive)\n",
    "\n",
    "                # If either question-word or all four guess-words are not in model, guess randomly\n",
    "                if(row[0] not in model or (row[2] not in model and row[3] not in model and row[4] not in model and row[5] not in model)):\n",
    "                    inModel = False\n",
    "                    guess_word = row[random_word]\n",
    "\n",
    "                else: \n",
    "                    inModel = True\n",
    "\n",
    "                    # Compute similarities of scores of question-word and guess-word and append them as key-value pairs to the dictionary\n",
    "                    score1 = model.similarity(row[0],row[2])\n",
    "                    score_dict[score1] = row[2]\n",
    "                    \n",
    "                    score2 = model.similarity(row[0],row[3])\n",
    "                    score_dict[score2] = row[3]\n",
    "                    \n",
    "                    score3 = model.similarity(row[0],row[4])\n",
    "                    score_dict[score3] = row[4]\n",
    "                    \n",
    "                    score4 = model.similarity(row[0],row[5])\n",
    "                    score_dict[score4] = row[5]\n",
    "\n",
    "                    guess_key = sorted(score_dict.keys())[-1] # sort the final dictionary and get the highest key (score)\n",
    "                    guess_word = score_dict[guess_key] # get the word with the highest score\n",
    "\n",
    "                # Label the system's guess\n",
    "                if(inModel == False):\n",
    "                    label = \"guess\"      \n",
    "                elif(guess_word == row[1]):\n",
    "                    correct += 1\n",
    "                    valid += 1\n",
    "                    label = \"correct\"\n",
    "                else:\n",
    "                    valid += 1\n",
    "                    label = \"wrong\"\n",
    "\n",
    "                csv_writer.writerow([row[0], row[1], guess_word, label]) # write final result to csv\n",
    "            \n",
    "            score_dict.clear() # clear the dictionary to use in the next row\n",
    "            linecount +=1 # increase the line count"
   ]
  },
  {
   "cell_type": "code",
   "execution_count": 122,
   "metadata": {
    "ExecuteTime": {
     "end_time": "2023-12-04T03:34:24.328936Z",
     "start_time": "2023-12-04T03:34:24.307023Z"
    }
   },
   "outputs": [],
   "source": [
    "# Open analysis.csv in write mode\n",
    "with open('analysis.csv', mode='w', newline='') as details:\n",
    "        csv_writer = csv.writer(details)\n",
    "        model_name = \"word2vec-google-news-300\"\n",
    "        vocab_size = len(model.key_to_index)\n",
    "        accuracy = correct/valid\n",
    "        csv_writer.writerow([\"Model Name\", \"Vocabulary Size\", \"Number of Correct Labels\",\"Number of Valid Answers\", \"Model Accuracy \\n\"]) # csv Headings\n",
    "        csv_writer.writerow([model_name, vocab_size, correct, valid, accuracy]) # analysis results\n",
    "        csv_writer.writerow(\"\")"
   ]
  },
  {
   "cell_type": "code",
   "execution_count": 123,
   "metadata": {
    "ExecuteTime": {
     "end_time": "2023-12-04T03:47:48.504206Z",
     "start_time": "2023-12-04T03:40:52.572362Z"
    }
   },
   "outputs": [
    {
     "name": "stdout",
     "output_type": "stream",
     "text": [
      "[====----------------------------------------------] 9.3% 23.4/252.1MB downloaded"
     ]
    },
    {
     "name": "stderr",
     "output_type": "stream",
     "text": [
      "IOPub message rate exceeded.\n",
      "The Jupyter server will temporarily stop sending output\n",
      "to the client in order to avoid crashing it.\n",
      "To change this limit, set the config variable\n",
      "`--ServerApp.iopub_msg_rate_limit`.\n",
      "\n",
      "Current values:\n",
      "ServerApp.iopub_msg_rate_limit=1000.0 (msgs/sec)\n",
      "ServerApp.rate_limit_window=3.0 (secs)\n",
      "\n"
     ]
    },
    {
     "name": "stdout",
     "output_type": "stream",
     "text": [
      "[==========----------------------------------------] 21.3% 53.6/252.1MB downloaded"
     ]
    },
    {
     "name": "stderr",
     "output_type": "stream",
     "text": [
      "IOPub message rate exceeded.\n",
      "The Jupyter server will temporarily stop sending output\n",
      "to the client in order to avoid crashing it.\n",
      "To change this limit, set the config variable\n",
      "`--ServerApp.iopub_msg_rate_limit`.\n",
      "\n",
      "Current values:\n",
      "ServerApp.iopub_msg_rate_limit=1000.0 (msgs/sec)\n",
      "ServerApp.rate_limit_window=3.0 (secs)\n",
      "\n"
     ]
    },
    {
     "name": "stdout",
     "output_type": "stream",
     "text": [
      "[================----------------------------------] 33.5% 84.6/252.1MB downloaded"
     ]
    },
    {
     "name": "stderr",
     "output_type": "stream",
     "text": [
      "IOPub message rate exceeded.\n",
      "The Jupyter server will temporarily stop sending output\n",
      "to the client in order to avoid crashing it.\n",
      "To change this limit, set the config variable\n",
      "`--ServerApp.iopub_msg_rate_limit`.\n",
      "\n",
      "Current values:\n",
      "ServerApp.iopub_msg_rate_limit=1000.0 (msgs/sec)\n",
      "ServerApp.rate_limit_window=3.0 (secs)\n",
      "\n"
     ]
    },
    {
     "name": "stdout",
     "output_type": "stream",
     "text": [
      "[======================----------------------------] 45.1% 113.8/252.1MB downloaded"
     ]
    },
    {
     "name": "stderr",
     "output_type": "stream",
     "text": [
      "IOPub message rate exceeded.\n",
      "The Jupyter server will temporarily stop sending output\n",
      "to the client in order to avoid crashing it.\n",
      "To change this limit, set the config variable\n",
      "`--ServerApp.iopub_msg_rate_limit`.\n",
      "\n",
      "Current values:\n",
      "ServerApp.iopub_msg_rate_limit=1000.0 (msgs/sec)\n",
      "ServerApp.rate_limit_window=3.0 (secs)\n",
      "\n"
     ]
    },
    {
     "name": "stdout",
     "output_type": "stream",
     "text": [
      "[============================----------------------] 58.0% 146.2/252.1MB downloaded"
     ]
    },
    {
     "name": "stderr",
     "output_type": "stream",
     "text": [
      "IOPub message rate exceeded.\n",
      "The Jupyter server will temporarily stop sending output\n",
      "to the client in order to avoid crashing it.\n",
      "To change this limit, set the config variable\n",
      "`--ServerApp.iopub_msg_rate_limit`.\n",
      "\n",
      "Current values:\n",
      "ServerApp.iopub_msg_rate_limit=1000.0 (msgs/sec)\n",
      "ServerApp.rate_limit_window=3.0 (secs)\n",
      "\n"
     ]
    },
    {
     "name": "stdout",
     "output_type": "stream",
     "text": [
      "[=====================================-------------] 75.4% 190.1/252.1MB downloaded"
     ]
    },
    {
     "name": "stderr",
     "output_type": "stream",
     "text": [
      "IOPub message rate exceeded.\n",
      "The Jupyter server will temporarily stop sending output\n",
      "to the client in order to avoid crashing it.\n",
      "To change this limit, set the config variable\n",
      "`--ServerApp.iopub_msg_rate_limit`.\n",
      "\n",
      "Current values:\n",
      "ServerApp.iopub_msg_rate_limit=1000.0 (msgs/sec)\n",
      "ServerApp.rate_limit_window=3.0 (secs)\n",
      "\n"
     ]
    },
    {
     "name": "stdout",
     "output_type": "stream",
     "text": [
      "[==============================================----] 92.8% 233.8/252.1MB downloaded"
     ]
    },
    {
     "name": "stderr",
     "output_type": "stream",
     "text": [
      "IOPub message rate exceeded.\n",
      "The Jupyter server will temporarily stop sending output\n",
      "to the client in order to avoid crashing it.\n",
      "To change this limit, set the config variable\n",
      "`--ServerApp.iopub_msg_rate_limit`.\n",
      "\n",
      "Current values:\n",
      "ServerApp.iopub_msg_rate_limit=1000.0 (msgs/sec)\n",
      "ServerApp.rate_limit_window=3.0 (secs)\n",
      "\n"
     ]
    },
    {
     "name": "stdout",
     "output_type": "stream",
     "text": [
      "[==================================================] 100.0% 252.1/252.1MB downloaded\n",
      "[=-------------------------------------------------] 3.1% 23.4/758.5MB downloaded"
     ]
    },
    {
     "name": "stderr",
     "output_type": "stream",
     "text": [
      "IOPub message rate exceeded.\n",
      "The Jupyter server will temporarily stop sending output\n",
      "to the client in order to avoid crashing it.\n",
      "To change this limit, set the config variable\n",
      "`--ServerApp.iopub_msg_rate_limit`.\n",
      "\n",
      "Current values:\n",
      "ServerApp.iopub_msg_rate_limit=1000.0 (msgs/sec)\n",
      "ServerApp.rate_limit_window=3.0 (secs)\n",
      "\n"
     ]
    },
    {
     "name": "stdout",
     "output_type": "stream",
     "text": [
      "[===-----------------------------------------------] 7.2% 54.4/758.5MB downloaded"
     ]
    },
    {
     "name": "stderr",
     "output_type": "stream",
     "text": [
      "IOPub message rate exceeded.\n",
      "The Jupyter server will temporarily stop sending output\n",
      "to the client in order to avoid crashing it.\n",
      "To change this limit, set the config variable\n",
      "`--ServerApp.iopub_msg_rate_limit`.\n",
      "\n",
      "Current values:\n",
      "ServerApp.iopub_msg_rate_limit=1000.0 (msgs/sec)\n",
      "ServerApp.rate_limit_window=3.0 (secs)\n",
      "\n"
     ]
    },
    {
     "name": "stdout",
     "output_type": "stream",
     "text": [
      "[=====---------------------------------------------] 11.3% 85.7/758.5MB downloaded"
     ]
    },
    {
     "name": "stderr",
     "output_type": "stream",
     "text": [
      "IOPub message rate exceeded.\n",
      "The Jupyter server will temporarily stop sending output\n",
      "to the client in order to avoid crashing it.\n",
      "To change this limit, set the config variable\n",
      "`--ServerApp.iopub_msg_rate_limit`.\n",
      "\n",
      "Current values:\n",
      "ServerApp.iopub_msg_rate_limit=1000.0 (msgs/sec)\n",
      "ServerApp.rate_limit_window=3.0 (secs)\n",
      "\n"
     ]
    },
    {
     "name": "stdout",
     "output_type": "stream",
     "text": [
      "[=======-------------------------------------------] 15.5% 117.8/758.5MB downloaded"
     ]
    },
    {
     "name": "stderr",
     "output_type": "stream",
     "text": [
      "IOPub message rate exceeded.\n",
      "The Jupyter server will temporarily stop sending output\n",
      "to the client in order to avoid crashing it.\n",
      "To change this limit, set the config variable\n",
      "`--ServerApp.iopub_msg_rate_limit`.\n",
      "\n",
      "Current values:\n",
      "ServerApp.iopub_msg_rate_limit=1000.0 (msgs/sec)\n",
      "ServerApp.rate_limit_window=3.0 (secs)\n",
      "\n"
     ]
    },
    {
     "name": "stdout",
     "output_type": "stream",
     "text": [
      "[=========-----------------------------------------] 19.9% 150.9/758.5MB downloaded"
     ]
    },
    {
     "name": "stderr",
     "output_type": "stream",
     "text": [
      "IOPub message rate exceeded.\n",
      "The Jupyter server will temporarily stop sending output\n",
      "to the client in order to avoid crashing it.\n",
      "To change this limit, set the config variable\n",
      "`--ServerApp.iopub_msg_rate_limit`.\n",
      "\n",
      "Current values:\n",
      "ServerApp.iopub_msg_rate_limit=1000.0 (msgs/sec)\n",
      "ServerApp.rate_limit_window=3.0 (secs)\n",
      "\n"
     ]
    },
    {
     "name": "stdout",
     "output_type": "stream",
     "text": [
      "[============--------------------------------------] 24.9% 189.0/758.5MB downloaded"
     ]
    },
    {
     "name": "stderr",
     "output_type": "stream",
     "text": [
      "IOPub message rate exceeded.\n",
      "The Jupyter server will temporarily stop sending output\n",
      "to the client in order to avoid crashing it.\n",
      "To change this limit, set the config variable\n",
      "`--ServerApp.iopub_msg_rate_limit`.\n",
      "\n",
      "Current values:\n",
      "ServerApp.iopub_msg_rate_limit=1000.0 (msgs/sec)\n",
      "ServerApp.rate_limit_window=3.0 (secs)\n",
      "\n"
     ]
    },
    {
     "name": "stdout",
     "output_type": "stream",
     "text": [
      "[==============------------------------------------] 29.3% 222.4/758.5MB downloaded"
     ]
    },
    {
     "name": "stderr",
     "output_type": "stream",
     "text": [
      "IOPub message rate exceeded.\n",
      "The Jupyter server will temporarily stop sending output\n",
      "to the client in order to avoid crashing it.\n",
      "To change this limit, set the config variable\n",
      "`--ServerApp.iopub_msg_rate_limit`.\n",
      "\n",
      "Current values:\n",
      "ServerApp.iopub_msg_rate_limit=1000.0 (msgs/sec)\n",
      "ServerApp.rate_limit_window=3.0 (secs)\n",
      "\n"
     ]
    },
    {
     "name": "stdout",
     "output_type": "stream",
     "text": [
      "[================----------------------------------] 33.5% 253.8/758.5MB downloaded"
     ]
    },
    {
     "name": "stderr",
     "output_type": "stream",
     "text": [
      "IOPub message rate exceeded.\n",
      "The Jupyter server will temporarily stop sending output\n",
      "to the client in order to avoid crashing it.\n",
      "To change this limit, set the config variable\n",
      "`--ServerApp.iopub_msg_rate_limit`.\n",
      "\n",
      "Current values:\n",
      "ServerApp.iopub_msg_rate_limit=1000.0 (msgs/sec)\n",
      "ServerApp.rate_limit_window=3.0 (secs)\n",
      "\n"
     ]
    },
    {
     "name": "stdout",
     "output_type": "stream",
     "text": [
      "[===================-------------------------------] 38.5% 292.1/758.5MB downloaded"
     ]
    },
    {
     "name": "stderr",
     "output_type": "stream",
     "text": [
      "IOPub message rate exceeded.\n",
      "The Jupyter server will temporarily stop sending output\n",
      "to the client in order to avoid crashing it.\n",
      "To change this limit, set the config variable\n",
      "`--ServerApp.iopub_msg_rate_limit`.\n",
      "\n",
      "Current values:\n",
      "ServerApp.iopub_msg_rate_limit=1000.0 (msgs/sec)\n",
      "ServerApp.rate_limit_window=3.0 (secs)\n",
      "\n"
     ]
    },
    {
     "name": "stdout",
     "output_type": "stream",
     "text": [
      "[=====================-----------------------------] 43.5% 330.2/758.5MB downloaded"
     ]
    },
    {
     "name": "stderr",
     "output_type": "stream",
     "text": [
      "IOPub message rate exceeded.\n",
      "The Jupyter server will temporarily stop sending output\n",
      "to the client in order to avoid crashing it.\n",
      "To change this limit, set the config variable\n",
      "`--ServerApp.iopub_msg_rate_limit`.\n",
      "\n",
      "Current values:\n",
      "ServerApp.iopub_msg_rate_limit=1000.0 (msgs/sec)\n",
      "ServerApp.rate_limit_window=3.0 (secs)\n",
      "\n"
     ]
    },
    {
     "name": "stdout",
     "output_type": "stream",
     "text": [
      "[========================--------------------------] 48.9% 370.7/758.5MB downloaded"
     ]
    },
    {
     "name": "stderr",
     "output_type": "stream",
     "text": [
      "IOPub message rate exceeded.\n",
      "The Jupyter server will temporarily stop sending output\n",
      "to the client in order to avoid crashing it.\n",
      "To change this limit, set the config variable\n",
      "`--ServerApp.iopub_msg_rate_limit`.\n",
      "\n",
      "Current values:\n",
      "ServerApp.iopub_msg_rate_limit=1000.0 (msgs/sec)\n",
      "ServerApp.rate_limit_window=3.0 (secs)\n",
      "\n"
     ]
    },
    {
     "name": "stdout",
     "output_type": "stream",
     "text": [
      "[==========================------------------------] 53.7% 407.1/758.5MB downloaded"
     ]
    },
    {
     "name": "stderr",
     "output_type": "stream",
     "text": [
      "IOPub message rate exceeded.\n",
      "The Jupyter server will temporarily stop sending output\n",
      "to the client in order to avoid crashing it.\n",
      "To change this limit, set the config variable\n",
      "`--ServerApp.iopub_msg_rate_limit`.\n",
      "\n",
      "Current values:\n",
      "ServerApp.iopub_msg_rate_limit=1000.0 (msgs/sec)\n",
      "ServerApp.rate_limit_window=3.0 (secs)\n",
      "\n"
     ]
    },
    {
     "name": "stdout",
     "output_type": "stream",
     "text": [
      "[=============================---------------------] 59.0% 447.8/758.5MB downloaded"
     ]
    },
    {
     "name": "stderr",
     "output_type": "stream",
     "text": [
      "IOPub message rate exceeded.\n",
      "The Jupyter server will temporarily stop sending output\n",
      "to the client in order to avoid crashing it.\n",
      "To change this limit, set the config variable\n",
      "`--ServerApp.iopub_msg_rate_limit`.\n",
      "\n",
      "Current values:\n",
      "ServerApp.iopub_msg_rate_limit=1000.0 (msgs/sec)\n",
      "ServerApp.rate_limit_window=3.0 (secs)\n",
      "\n"
     ]
    },
    {
     "name": "stdout",
     "output_type": "stream",
     "text": [
      "[=================================-----------------] 66.3% 502.6/758.5MB downloaded"
     ]
    },
    {
     "name": "stderr",
     "output_type": "stream",
     "text": [
      "IOPub message rate exceeded.\n",
      "The Jupyter server will temporarily stop sending output\n",
      "to the client in order to avoid crashing it.\n",
      "To change this limit, set the config variable\n",
      "`--ServerApp.iopub_msg_rate_limit`.\n",
      "\n",
      "Current values:\n",
      "ServerApp.iopub_msg_rate_limit=1000.0 (msgs/sec)\n",
      "ServerApp.rate_limit_window=3.0 (secs)\n",
      "\n"
     ]
    },
    {
     "name": "stdout",
     "output_type": "stream",
     "text": [
      "[====================================--------------] 74.0% 561.3/758.5MB downloaded"
     ]
    },
    {
     "name": "stderr",
     "output_type": "stream",
     "text": [
      "IOPub message rate exceeded.\n",
      "The Jupyter server will temporarily stop sending output\n",
      "to the client in order to avoid crashing it.\n",
      "To change this limit, set the config variable\n",
      "`--ServerApp.iopub_msg_rate_limit`.\n",
      "\n",
      "Current values:\n",
      "ServerApp.iopub_msg_rate_limit=1000.0 (msgs/sec)\n",
      "ServerApp.rate_limit_window=3.0 (secs)\n",
      "\n"
     ]
    },
    {
     "name": "stdout",
     "output_type": "stream",
     "text": [
      "[=========================================---------] 83.8% 635.3/758.5MB downloaded"
     ]
    },
    {
     "name": "stderr",
     "output_type": "stream",
     "text": [
      "IOPub message rate exceeded.\n",
      "The Jupyter server will temporarily stop sending output\n",
      "to the client in order to avoid crashing it.\n",
      "To change this limit, set the config variable\n",
      "`--ServerApp.iopub_msg_rate_limit`.\n",
      "\n",
      "Current values:\n",
      "ServerApp.iopub_msg_rate_limit=1000.0 (msgs/sec)\n",
      "ServerApp.rate_limit_window=3.0 (secs)\n",
      "\n"
     ]
    },
    {
     "name": "stdout",
     "output_type": "stream",
     "text": [
      "[============================================------] 88.7% 672.4/758.5MB downloaded"
     ]
    },
    {
     "name": "stderr",
     "output_type": "stream",
     "text": [
      "IOPub message rate exceeded.\n",
      "The Jupyter server will temporarily stop sending output\n",
      "to the client in order to avoid crashing it.\n",
      "To change this limit, set the config variable\n",
      "`--ServerApp.iopub_msg_rate_limit`.\n",
      "\n",
      "Current values:\n",
      "ServerApp.iopub_msg_rate_limit=1000.0 (msgs/sec)\n",
      "ServerApp.rate_limit_window=3.0 (secs)\n",
      "\n"
     ]
    },
    {
     "name": "stdout",
     "output_type": "stream",
     "text": [
      "[================================================--] 96.0% 728.5/758.5MB downloaded"
     ]
    },
    {
     "name": "stderr",
     "output_type": "stream",
     "text": [
      "IOPub message rate exceeded.\n",
      "The Jupyter server will temporarily stop sending output\n",
      "to the client in order to avoid crashing it.\n",
      "To change this limit, set the config variable\n",
      "`--ServerApp.iopub_msg_rate_limit`.\n",
      "\n",
      "Current values:\n",
      "ServerApp.iopub_msg_rate_limit=1000.0 (msgs/sec)\n",
      "ServerApp.rate_limit_window=3.0 (secs)\n",
      "\n"
     ]
    },
    {
     "name": "stdout",
     "output_type": "stream",
     "text": [
      "[==================================================] 100.0% 758.5/758.5MB downloaded\n",
      "[====----------------------------------------------] 8.7% 33.6/387.1MB downloaded"
     ]
    },
    {
     "name": "stderr",
     "output_type": "stream",
     "text": [
      "IOPub message rate exceeded.\n",
      "The Jupyter server will temporarily stop sending output\n",
      "to the client in order to avoid crashing it.\n",
      "To change this limit, set the config variable\n",
      "`--ServerApp.iopub_msg_rate_limit`.\n",
      "\n",
      "Current values:\n",
      "ServerApp.iopub_msg_rate_limit=1000.0 (msgs/sec)\n",
      "ServerApp.rate_limit_window=3.0 (secs)\n",
      "\n"
     ]
    },
    {
     "name": "stdout",
     "output_type": "stream",
     "text": [
      "[===========---------------------------------------] 23.4% 90.5/387.1MB downloaded"
     ]
    },
    {
     "name": "stderr",
     "output_type": "stream",
     "text": [
      "IOPub message rate exceeded.\n",
      "The Jupyter server will temporarily stop sending output\n",
      "to the client in order to avoid crashing it.\n",
      "To change this limit, set the config variable\n",
      "`--ServerApp.iopub_msg_rate_limit`.\n",
      "\n",
      "Current values:\n",
      "ServerApp.iopub_msg_rate_limit=1000.0 (msgs/sec)\n",
      "ServerApp.rate_limit_window=3.0 (secs)\n",
      "\n"
     ]
    },
    {
     "name": "stdout",
     "output_type": "stream",
     "text": [
      "[===============-----------------------------------] 31.0% 120.1/387.1MB downloaded"
     ]
    },
    {
     "name": "stderr",
     "output_type": "stream",
     "text": [
      "IOPub message rate exceeded.\n",
      "The Jupyter server will temporarily stop sending output\n",
      "to the client in order to avoid crashing it.\n",
      "To change this limit, set the config variable\n",
      "`--ServerApp.iopub_msg_rate_limit`.\n",
      "\n",
      "Current values:\n",
      "ServerApp.iopub_msg_rate_limit=1000.0 (msgs/sec)\n",
      "ServerApp.rate_limit_window=3.0 (secs)\n",
      "\n"
     ]
    },
    {
     "name": "stdout",
     "output_type": "stream",
     "text": [
      "[===================-------------------------------] 39.7% 153.8/387.1MB downloaded"
     ]
    },
    {
     "name": "stderr",
     "output_type": "stream",
     "text": [
      "IOPub message rate exceeded.\n",
      "The Jupyter server will temporarily stop sending output\n",
      "to the client in order to avoid crashing it.\n",
      "To change this limit, set the config variable\n",
      "`--ServerApp.iopub_msg_rate_limit`.\n",
      "\n",
      "Current values:\n",
      "ServerApp.iopub_msg_rate_limit=1000.0 (msgs/sec)\n",
      "ServerApp.rate_limit_window=3.0 (secs)\n",
      "\n"
     ]
    },
    {
     "name": "stdout",
     "output_type": "stream",
     "text": [
      "[===========================-----------------------] 54.6% 211.5/387.1MB downloaded"
     ]
    },
    {
     "name": "stderr",
     "output_type": "stream",
     "text": [
      "IOPub message rate exceeded.\n",
      "The Jupyter server will temporarily stop sending output\n",
      "to the client in order to avoid crashing it.\n",
      "To change this limit, set the config variable\n",
      "`--ServerApp.iopub_msg_rate_limit`.\n",
      "\n",
      "Current values:\n",
      "ServerApp.iopub_msg_rate_limit=1000.0 (msgs/sec)\n",
      "ServerApp.rate_limit_window=3.0 (secs)\n",
      "\n"
     ]
    },
    {
     "name": "stdout",
     "output_type": "stream",
     "text": [
      "[===============================-------------------] 62.4% 241.5/387.1MB downloaded"
     ]
    },
    {
     "name": "stderr",
     "output_type": "stream",
     "text": [
      "IOPub message rate exceeded.\n",
      "The Jupyter server will temporarily stop sending output\n",
      "to the client in order to avoid crashing it.\n",
      "To change this limit, set the config variable\n",
      "`--ServerApp.iopub_msg_rate_limit`.\n",
      "\n",
      "Current values:\n",
      "ServerApp.iopub_msg_rate_limit=1000.0 (msgs/sec)\n",
      "ServerApp.rate_limit_window=3.0 (secs)\n",
      "\n"
     ]
    },
    {
     "name": "stdout",
     "output_type": "stream",
     "text": [
      "[===================================---------------] 70.6% 273.1/387.1MB downloaded"
     ]
    },
    {
     "name": "stderr",
     "output_type": "stream",
     "text": [
      "IOPub message rate exceeded.\n",
      "The Jupyter server will temporarily stop sending output\n",
      "to the client in order to avoid crashing it.\n",
      "To change this limit, set the config variable\n",
      "`--ServerApp.iopub_msg_rate_limit`.\n",
      "\n",
      "Current values:\n",
      "ServerApp.iopub_msg_rate_limit=1000.0 (msgs/sec)\n",
      "ServerApp.rate_limit_window=3.0 (secs)\n",
      "\n"
     ]
    },
    {
     "name": "stdout",
     "output_type": "stream",
     "text": [
      "[=======================================-----------] 79.3% 307.0/387.1MB downloaded"
     ]
    },
    {
     "name": "stderr",
     "output_type": "stream",
     "text": [
      "IOPub message rate exceeded.\n",
      "The Jupyter server will temporarily stop sending output\n",
      "to the client in order to avoid crashing it.\n",
      "To change this limit, set the config variable\n",
      "`--ServerApp.iopub_msg_rate_limit`.\n",
      "\n",
      "Current values:\n",
      "ServerApp.iopub_msg_rate_limit=1000.0 (msgs/sec)\n",
      "ServerApp.rate_limit_window=3.0 (secs)\n",
      "\n"
     ]
    },
    {
     "name": "stdout",
     "output_type": "stream",
     "text": [
      "[============================================------] 88.4% 342.2/387.1MB downloaded"
     ]
    },
    {
     "name": "stderr",
     "output_type": "stream",
     "text": [
      "IOPub message rate exceeded.\n",
      "The Jupyter server will temporarily stop sending output\n",
      "to the client in order to avoid crashing it.\n",
      "To change this limit, set the config variable\n",
      "`--ServerApp.iopub_msg_rate_limit`.\n",
      "\n",
      "Current values:\n",
      "ServerApp.iopub_msg_rate_limit=1000.0 (msgs/sec)\n",
      "ServerApp.rate_limit_window=3.0 (secs)\n",
      "\n"
     ]
    },
    {
     "name": "stdout",
     "output_type": "stream",
     "text": [
      "[=================================================-] 98.3% 380.6/387.1MB downloaded"
     ]
    },
    {
     "name": "stderr",
     "output_type": "stream",
     "text": [
      "IOPub message rate exceeded.\n",
      "The Jupyter server will temporarily stop sending output\n",
      "to the client in order to avoid crashing it.\n",
      "To change this limit, set the config variable\n",
      "`--ServerApp.iopub_msg_rate_limit`.\n",
      "\n",
      "Current values:\n",
      "ServerApp.iopub_msg_rate_limit=1000.0 (msgs/sec)\n",
      "ServerApp.rate_limit_window=3.0 (secs)\n",
      "\n"
     ]
    },
    {
     "name": "stdout",
     "output_type": "stream",
     "text": [
      "[===========---------------------------------------] 22.4% 23.4/104.8MB downloaded"
     ]
    },
    {
     "name": "stderr",
     "output_type": "stream",
     "text": [
      "IOPub message rate exceeded.\n",
      "The Jupyter server will temporarily stop sending output\n",
      "to the client in order to avoid crashing it.\n",
      "To change this limit, set the config variable\n",
      "`--ServerApp.iopub_msg_rate_limit`.\n",
      "\n",
      "Current values:\n",
      "ServerApp.iopub_msg_rate_limit=1000.0 (msgs/sec)\n",
      "ServerApp.rate_limit_window=3.0 (secs)\n",
      "\n"
     ]
    },
    {
     "name": "stdout",
     "output_type": "stream",
     "text": [
      "[=========================-------------------------] 50.9% 53.3/104.8MB downloaded"
     ]
    },
    {
     "name": "stderr",
     "output_type": "stream",
     "text": [
      "IOPub message rate exceeded.\n",
      "The Jupyter server will temporarily stop sending output\n",
      "to the client in order to avoid crashing it.\n",
      "To change this limit, set the config variable\n",
      "`--ServerApp.iopub_msg_rate_limit`.\n",
      "\n",
      "Current values:\n",
      "ServerApp.iopub_msg_rate_limit=1000.0 (msgs/sec)\n",
      "ServerApp.rate_limit_window=3.0 (secs)\n",
      "\n"
     ]
    },
    {
     "name": "stdout",
     "output_type": "stream",
     "text": [
      "[=======================================-----------] 78.7% 82.5/104.8MB downloaded"
     ]
    },
    {
     "name": "stderr",
     "output_type": "stream",
     "text": [
      "IOPub message rate exceeded.\n",
      "The Jupyter server will temporarily stop sending output\n",
      "to the client in order to avoid crashing it.\n",
      "To change this limit, set the config variable\n",
      "`--ServerApp.iopub_msg_rate_limit`.\n",
      "\n",
      "Current values:\n",
      "ServerApp.iopub_msg_rate_limit=1000.0 (msgs/sec)\n",
      "ServerApp.rate_limit_window=3.0 (secs)\n",
      "\n"
     ]
    },
    {
     "name": "stdout",
     "output_type": "stream",
     "text": [
      "[==================================================] 100.0% 104.8/104.8MB downloaded\n"
     ]
    }
   ],
   "source": [
    "# Task 2\n",
    "\n",
    "# Load all pre-trained models\n",
    "C1E1 = api.load(\"glove-wiki-gigaword-200\")\n",
    "C2E1 = api.load(\"glove-twitter-200\")\n",
    "C3E2 = api.load(\"glove-twitter-100\")\n",
    "C3E3 = api.load(\"glove-twitter-25\")"
   ]
  },
  {
   "cell_type": "code",
   "execution_count": 124,
   "metadata": {
    "ExecuteTime": {
     "end_time": "2023-12-04T03:47:48.641169Z",
     "start_time": "2023-12-04T03:47:48.503550Z"
    }
   },
   "outputs": [],
   "source": [
    "# Task 2: C1E1\n",
    "\n",
    "# Global Variables\n",
    "correctC1E1 = 0 # variable to count correct guess words\n",
    "validC1E1 = 0 # variable to count valid guess words\n",
    "label = \"guess\" # variable to label system's guess result\n",
    "score_dict = {} # dictionary for score-word pairs\n",
    "\n",
    "\n",
    "# Open synonym.csv in read mode\n",
    "with open('synonym.csv', mode='r') as dataset:\n",
    "\n",
    "    csv_reader = csv.reader(dataset, delimiter=',')\n",
    "    linecount = 0 # variable to count number of lines\n",
    "    \n",
    "    # Open word2vec-google-news-300-details.csv in write mode\n",
    "    with open('glove-wiki-gigaword-200-details.csv', mode='w', newline='') as details:\n",
    "        csv_writer = csv.writer(details)\n",
    "\n",
    "        # For every row in synonym.csv\n",
    "        for row in csv_reader:\n",
    "            # csv Headings\n",
    "            if linecount == 0:\n",
    "                csv_writer.writerow(['question-word', 'answer-word', 'guess-word', 'label'])\n",
    "            else:\n",
    "                \n",
    "                score_dict = {} # dictionary for score-word pairs\n",
    "                inModel = True # variable used for checking valid guesses\n",
    "                random_word = random.randint(2,5) # random integer between 2 and 5 (inclusive)\n",
    "\n",
    "                # If either question-word or all four guess-words are not in C1E1, guess randomly\n",
    "                if(row[0] not in C1E1 or (row[2] not in C1E1 and row[3] not in C1E1 and row[4] not in C1E1 and row[5] not in C1E1)):\n",
    "                    inModel = False\n",
    "                    guess_word = row[random_word]\n",
    "\n",
    "                else: \n",
    "                    inModel = True\n",
    "\n",
    "                    # Compute similarities of scores of question-word and guess-word and append them as key-value pairs to the dictionary\n",
    "                    if (row[2] not in C1E1): \n",
    "                        score1 = 0\n",
    "                        score_dict[score1] = row[2]\n",
    "                    else:\n",
    "                        score1 = C1E1.similarity(row[0],row[2])\n",
    "                        score_dict[score1] = row[2]\n",
    "\n",
    "                    if (row[3] not in C1E1): \n",
    "                        score2 = 0\n",
    "                        score_dict[score2] = row[3]\n",
    "                    else:\n",
    "                        score2 = C1E1.similarity(row[0],row[3])\n",
    "                        score_dict[score2] = row[3]\n",
    "\n",
    "                    if (row[4] not in C1E1): \n",
    "                        score3 = 0\n",
    "                        score_dict[score3] = row[4]\n",
    "                    else:\n",
    "                        score3 = C1E1.similarity(row[0],row[4])\n",
    "                        score_dict[score3] = row[4]\n",
    "\n",
    "                    if (row[5] not in C1E1): \n",
    "                        score4 = 0\n",
    "                        score_dict[score4] = row[5]\n",
    "                    else:\n",
    "                        score4 = C1E1.similarity(row[0],row[5])\n",
    "                        score_dict[score4] = row[5]\n",
    "                        \n",
    "\n",
    "                    guess_key = sorted(score_dict.keys())[-1] # sort the final dictionary and get the highest key (score)\n",
    "                    guess_word = score_dict[guess_key] # get the word with the highest score\n",
    "\n",
    "                # Label the system's guess\n",
    "                if(inModel == False):\n",
    "                    label = \"guess\"      \n",
    "                elif(guess_word == row[1]):\n",
    "                    correctC1E1 += 1\n",
    "                    validC1E1 += 1\n",
    "                    label = \"correct\"\n",
    "                else:\n",
    "                    validC1E1 += 1\n",
    "                    label = \"wrong\"\n",
    "\n",
    "                csv_writer.writerow([row[0], row[1], guess_word, label]) # write final result to csv\n",
    "            \n",
    "            score_dict.clear() # clear the dictionary to use in the next row\n",
    "            linecount +=1 # increase the line count\n",
    "\n",
    "\n",
    "# Open analysis.csv in append mode\n",
    "with open('analysis.csv', mode='a', newline='') as details:\n",
    "        csv_writer = csv.writer(details)\n",
    "        model_name = \"glove-wiki-gigaword-200\"\n",
    "        vocab_size = len(C1E1.key_to_index)\n",
    "        accuracyC1E1 = correctC1E1/validC1E1\n",
    "        csv_writer.writerow([model_name, vocab_size, correctC1E1, validC1E1, accuracyC1E1]) # analysis results\n",
    "        csv_writer.writerow(\"\")"
   ]
  },
  {
   "cell_type": "code",
   "execution_count": 125,
   "metadata": {
    "ExecuteTime": {
     "end_time": "2023-12-04T03:51:04.038309Z",
     "start_time": "2023-12-04T03:51:03.983546Z"
    }
   },
   "outputs": [],
   "source": [
    "# Task 2: C2E1\n",
    "\n",
    "# Global Variables\n",
    "correctC2E1 = 0 # variable to count correct guess words\n",
    "validC2E1 = 0 # variable to count valid guess words\n",
    "label = \"guess\" # variable to label system's guess result\n",
    "score_dict = {} # dictionary for score-word pairs\n",
    "\n",
    "\n",
    "# Open synonym.csv in read mode\n",
    "with open('synonym.csv', mode='r') as dataset:\n",
    "\n",
    "    csv_reader = csv.reader(dataset, delimiter=',')\n",
    "    linecount = 0 # variable to count number of lines\n",
    "    \n",
    "    # Open word2vec-google-news-300-details.csv in write mode\n",
    "    with open('glove-twitter-200-details.csv', mode='w', newline='') as details:\n",
    "        csv_writer = csv.writer(details)\n",
    "\n",
    "        # For every row in synonym.csv\n",
    "        for row in csv_reader:\n",
    "            # csv Headings\n",
    "            if linecount == 0:\n",
    "                csv_writer.writerow(['question-word', 'answer-word', 'guess-word', 'label'])\n",
    "            else:\n",
    "                \n",
    "                score_dict = {} # dictionary for score-word pairs\n",
    "                inModel = True # variable used for checking valid guesses\n",
    "                random_word = random.randint(2,5) # random integer between 2 and 5 (inclusive)\n",
    "\n",
    "                # If either question-word or all four guess-words are not in C1E1, guess randomly\n",
    "                if(row[0] not in C2E1 or (row[2] not in C2E1 and row[3] not in C2E1 and row[4] not in C2E1 and row[5] not in C2E1)):\n",
    "                    inModel = False\n",
    "                    guess_word = row[random_word]\n",
    "\n",
    "                else: \n",
    "                    inModel = True\n",
    "\n",
    "                    # Compute similarities of scores of question-word and guess-word and append them as key-value pairs to the dictionary\n",
    "                    if (row[2] not in C2E1): \n",
    "                        score1 = 0\n",
    "                        score_dict[score1] = row[2]\n",
    "                    else:\n",
    "                        score1 = C2E1.similarity(row[0],row[2])\n",
    "                        score_dict[score1] = row[2]\n",
    "\n",
    "                    if (row[3] not in C2E1): \n",
    "                        score2 = 0\n",
    "                        score_dict[score2] = row[3]\n",
    "                    else:\n",
    "                        score2 = C2E1.similarity(row[0],row[3])\n",
    "                        score_dict[score2] = row[3]\n",
    "\n",
    "                    if (row[4] not in C2E1): \n",
    "                        score3 = 0\n",
    "                        score_dict[score3] = row[4]\n",
    "                    else:\n",
    "                        score3 = C2E1.similarity(row[0],row[4])\n",
    "                        score_dict[score3] = row[4]\n",
    "\n",
    "                    if (row[5] not in C2E1): \n",
    "                        score4 = 0\n",
    "                        score_dict[score4] = row[5]\n",
    "                    else:\n",
    "                        score4 = C2E1.similarity(row[0],row[5])\n",
    "                        score_dict[score4] = row[5]\n",
    "                        \n",
    "\n",
    "                    guess_key = sorted(score_dict.keys())[-1] # sort the final dictionary and get the highest key (score)\n",
    "                    guess_word = score_dict[guess_key] # get the word with the highest score\n",
    "\n",
    "                # Label the system's guess\n",
    "                if(inModel == False):\n",
    "                    label = \"guess\"      \n",
    "                elif(guess_word == row[1]):\n",
    "                    correctC2E1 += 1\n",
    "                    validC2E1 += 1\n",
    "                    label = \"correct\"\n",
    "                else:\n",
    "                    validC2E1 += 1\n",
    "                    label = \"wrong\"\n",
    "\n",
    "                csv_writer.writerow([row[0], row[1], guess_word, label]) # write final result to csv\n",
    "            \n",
    "            score_dict.clear() # clear the dictionary to use in the next row\n",
    "            linecount +=1 # increase the line count\n",
    "\n",
    "\n",
    "# Open analysis.csv in append mode\n",
    "with open('analysis.csv', mode='a', newline='') as details:\n",
    "        csv_writer = csv.writer(details)\n",
    "        model_name = \"glove-twitter-200\"\n",
    "        vocab_size = len(C2E1.key_to_index)\n",
    "        accuracyC2E1 = correctC2E1/validC2E1\n",
    "        csv_writer.writerow([model_name, vocab_size, correctC2E1, validC2E1, accuracyC2E1]) # analysis results\n",
    "        csv_writer.writerow(\"\")"
   ]
  },
  {
   "cell_type": "code",
   "execution_count": 127,
   "metadata": {
    "ExecuteTime": {
     "end_time": "2023-12-04T03:52:02.063926Z",
     "start_time": "2023-12-04T03:52:02.040861Z"
    }
   },
   "outputs": [],
   "source": [
    "# Task 2: C3E2\n",
    "\n",
    "# Global Variables\n",
    "correctC3E2 = 0 # variable to count correct guess words\n",
    "validC3E2 = 0 # variable to count valid guess words\n",
    "label = \"guess\" # variable to label system's guess result\n",
    "score_dict = {} # dictionary for score-word pairs\n",
    "\n",
    "\n",
    "# Open synonym.csv in read mode\n",
    "with open('synonym.csv', mode='r') as dataset:\n",
    "\n",
    "    csv_reader = csv.reader(dataset, delimiter=',')\n",
    "    linecount = 0 # variable to count number of lines\n",
    "    \n",
    "    # Open word2vec-google-news-300-details.csv in write mode\n",
    "    with open('glove-twitter-100-details.csv', mode='w', newline='') as details:\n",
    "        csv_writer = csv.writer(details)\n",
    "\n",
    "        # For every row in synonym.csv\n",
    "        for row in csv_reader:\n",
    "            # csv Headings\n",
    "            if linecount == 0:\n",
    "                csv_writer.writerow(['question-word', 'answer-word', 'guess-word', 'label'])\n",
    "            else:\n",
    "                \n",
    "                score_dict = {} # dictionary for score-word pairs\n",
    "                inModel = True # variable used for checking valid guesses\n",
    "                random_word = random.randint(2,5) # random integer between 2 and 5 (inclusive)\n",
    "\n",
    "                # If either question-word or all four guess-words are not in C1E1, guess randomly\n",
    "                if(row[0] not in C3E2 or (row[2] not in C3E2 and row[3] not in C3E2 and row[4] not in C3E2 and row[5] not in C3E2)):\n",
    "                    inModel = False\n",
    "                    guess_word = row[random_word]\n",
    "\n",
    "                else: \n",
    "                    inModel = True\n",
    "\n",
    "                    # Compute similarities of scores of question-word and guess-word and append them as key-value pairs to the dictionary\n",
    "                    if (row[2] not in C3E2): \n",
    "                        score1 = 0\n",
    "                        score_dict[score1] = row[2]\n",
    "                    else:\n",
    "                        score1 = C3E2.similarity(row[0],row[2])\n",
    "                        score_dict[score1] = row[2]\n",
    "\n",
    "                    if (row[3] not in C3E2): \n",
    "                        score2 = 0\n",
    "                        score_dict[score2] = row[3]\n",
    "                    else:\n",
    "                        score2 = C3E2.similarity(row[0],row[3])\n",
    "                        score_dict[score2] = row[3]\n",
    "\n",
    "                    if (row[4] not in C3E2): \n",
    "                        score3 = 0\n",
    "                        score_dict[score3] = row[4]\n",
    "                    else:\n",
    "                        score3 = C3E2.similarity(row[0],row[4])\n",
    "                        score_dict[score3] = row[4]\n",
    "\n",
    "                    if (row[5] not in C3E2): \n",
    "                        score4 = 0\n",
    "                        score_dict[score4] = row[5]\n",
    "                    else:\n",
    "                        score4 = C3E2.similarity(row[0],row[5])\n",
    "                        score_dict[score4] = row[5]\n",
    "\n",
    "\n",
    "                    guess_key = sorted(score_dict.keys())[-1] # sort the final dictionary and get the highest key (score)\n",
    "                    guess_word = score_dict[guess_key] # get the word with the highest score\n",
    "                    \n",
    "\n",
    "                # Label the system's guess\n",
    "                if(inModel == False):\n",
    "                    label = \"guess\"      \n",
    "                elif(guess_word == row[1]):\n",
    "                    correctC3E2 += 1\n",
    "                    validC3E2 += 1\n",
    "                    label = \"correct\"\n",
    "                else:\n",
    "                    validC3E2 += 1\n",
    "                    label = \"wrong\"\n",
    "\n",
    "                csv_writer.writerow([row[0], row[1], guess_word, label]) # write final result to csv\n",
    "            \n",
    "            score_dict.clear() # clear the dictionary to use in the next row\n",
    "            linecount +=1 # increase the line count\n",
    "\n",
    "\n",
    "# Open analysis.csv in append mode\n",
    "with open('analysis.csv', mode='a', newline='') as details:\n",
    "        csv_writer = csv.writer(details)\n",
    "        model_name = \"glove-twitter-100\"\n",
    "        vocab_size = len(C3E2.key_to_index)\n",
    "        accuracyC3E2 = correctC3E2/validC3E2\n",
    "        csv_writer.writerow([model_name, vocab_size, correctC3E2, validC3E2, accuracyC3E2]) # analysis results\n",
    "        csv_writer.writerow(\"\")"
   ]
  },
  {
   "cell_type": "code",
   "execution_count": 126,
   "metadata": {
    "ExecuteTime": {
     "end_time": "2023-12-04T03:51:41.525218Z",
     "start_time": "2023-12-04T03:51:41.499749Z"
    }
   },
   "outputs": [],
   "source": [
    "# Task 2: C3E3\n",
    "\n",
    "# Global Variables\n",
    "correctC3E3 = 0 # variable to count correct guess words\n",
    "validC3E3 = 0 # variable to count valid guess words\n",
    "label = \"guess\" # variable to label system's guess result\n",
    "score_dict = {} # dictionary for score-word pairs\n",
    "\n",
    "\n",
    "# Open synonym.csv in read mode\n",
    "with open('synonym.csv', mode='r') as dataset:\n",
    "\n",
    "    csv_reader = csv.reader(dataset, delimiter=',')\n",
    "    linecount = 0 # variable to count number of lines\n",
    "    \n",
    "    # Open word2vec-google-news-300-details.csv in write mode\n",
    "    with open('glove-twitter-25-details.csv', mode='w', newline='') as details:\n",
    "        csv_writer = csv.writer(details)\n",
    "\n",
    "        # For every row in synonym.csv\n",
    "        for row in csv_reader:\n",
    "            # csv Headings\n",
    "            if linecount == 0:\n",
    "                csv_writer.writerow(['question-word', 'answer-word', 'guess-word', 'label'])\n",
    "            else:\n",
    "                \n",
    "                score_dict = {} # dictionary for score-word pairs\n",
    "                inModel = True # variable used for checking valid guesses\n",
    "                random_word = random.randint(2,5) # random integer between 2 and 5 (inclusive)\n",
    "\n",
    "                # If either question-word or all four guess-words are not in C1E1, guess randomly\n",
    "                if(row[0] not in C3E3 or (row[2] not in C3E3 and row[3] not in C3E3 and row[4] not in C3E3 and row[5] not in C3E3)):\n",
    "                    inModel = False\n",
    "                    guess_word = row[random_word]\n",
    "\n",
    "                else: \n",
    "                    inModel = True\n",
    "\n",
    "                    # Compute similarities of scores of question-word and guess-word and append them as key-value pairs to the dictionary\n",
    "                    if (row[2] not in C3E3): \n",
    "                        score1 = 0\n",
    "                        score_dict[score1] = row[2]\n",
    "                    else:\n",
    "                        score1 = C3E3.similarity(row[0],row[2])\n",
    "                        score_dict[score1] = row[2]\n",
    "\n",
    "                    if (row[3] not in C3E3): \n",
    "                        score2 = 0\n",
    "                        score_dict[score2] = row[3]\n",
    "                    else:\n",
    "                        score2 = C3E3.similarity(row[0],row[3])\n",
    "                        score_dict[score2] = row[3]\n",
    "\n",
    "                    if (row[4] not in C3E3): \n",
    "                        score3 = 0\n",
    "                        score_dict[score3] = row[4]\n",
    "                    else:\n",
    "                        score3 = C3E3.similarity(row[0],row[4])\n",
    "                        score_dict[score3] = row[4]\n",
    "\n",
    "                    if (row[5] not in C3E3): \n",
    "                        score4 = 0\n",
    "                        score_dict[score4] = row[5]\n",
    "                    else:\n",
    "                        score4 = C3E3.similarity(row[0],row[5])\n",
    "                        score_dict[score4] = row[5]\n",
    "\n",
    "\n",
    "                    guess_key = sorted(score_dict.keys())[-1] # sort the final dictionary and get the highest key (score)\n",
    "                    guess_word = score_dict[guess_key] # get the word with the highest score\n",
    "\n",
    "                    \n",
    "                # Label the system's guess\n",
    "                if(inModel == False):\n",
    "                    label = \"guess\"      \n",
    "                elif(guess_word == row[1]):\n",
    "                    correctC3E3 += 1\n",
    "                    validC3E3 += 1\n",
    "                    label = \"correct\"\n",
    "                else:\n",
    "                    validC3E3 += 1\n",
    "                    label = \"wrong\"\n",
    "\n",
    "                csv_writer.writerow([row[0], row[1], guess_word, label]) # write final result to csv\n",
    "            \n",
    "            score_dict.clear() # clear the dictionary to use in the next row\n",
    "            linecount +=1 # increase the line count\n",
    "\n",
    "\n",
    "# Open analysis.csv in append mode\n",
    "with open('analysis.csv', mode='a', newline='') as details:\n",
    "        csv_writer = csv.writer(details)\n",
    "        model_name = \"glove-twitter-25\"\n",
    "        vocab_size = len(C3E3.key_to_index)\n",
    "        accuracyC3E3 = correctC3E3/validC3E3\n",
    "        csv_writer.writerow([model_name, vocab_size, correctC3E3, validC3E3, accuracyC3E3]) # analysis results\n",
    "        csv_writer.writerow(\"\")"
   ]
  },
  {
   "cell_type": "code",
   "execution_count": 151,
   "metadata": {
    "ExecuteTime": {
     "end_time": "2023-12-04T04:54:54.311546Z",
     "start_time": "2023-12-04T04:54:54.122022Z"
    }
   },
   "outputs": [
    {
     "data": {
      "text/plain": "<Figure size 1800x500 with 1 Axes>",
      "image/png": "[encoded data removed]"
     },
     "metadata": {},
     "output_type": "display_data"
    }
   ],
   "source": [
    "# Task 2 accuracy graph\n",
    "\n",
    "objects = ('word2vec-google-news-300', 'glove-wiki-gigaword-200', 'glove-twitter-200', 'glove-twitter-100', 'glove-twitter-25', 'human gold-standard', 'random baseline')\n",
    "y_pos = np.arange(len(objects))\n",
    "performance = [accuracy, accuracyC1E1, accuracyC2E1, accuracyC3E2, accuracyC3E3, 0.8857, 0.25]\n",
    "\n",
    "plt.figure(figsize=(18,5))\n",
    "plt.bar(y_pos, performance, align='center', alpha=0.5, width = 0.5)\n",
    "plt.xticks(y_pos, objects)\n",
    "plt.ylabel('Accuracy')\n",
    "plt.title('Accuracy of Different Models')\n",
    "\n",
    "plt.show()"
   ]
  },
  {
   "cell_type": "code",
   "execution_count": 149,
   "metadata": {
    "ExecuteTime": {
     "end_time": "2023-12-04T04:52:58.729500Z",
     "start_time": "2023-12-04T04:52:58.481190Z"
    }
   },
   "outputs": [
    {
     "data": {
      "text/plain": "<Figure size 1500x800 with 1 Axes>",
      "image/png": "[encoded data removed]"
     },
     "metadata": {},
     "output_type": "display_data"
    }
   ],
   "source": [
    "# Task 2 correct vs valid graph\n",
    "objects = ('word2vec-google-news-300', 'glove-wiki-gigaword-200', 'glove-twitter-200', 'glove-twitter-100', 'glove-twitter-25')\n",
    "groups = 5\n",
    "correctList = (correct, correctC1E1, correctC2E1, correctC3E2, correctC3E3)\n",
    "validList = (valid, validC1E1, validC2E1, validC3E2, validC3E3)\n",
    "\n",
    "# Create plot\n",
    "fig, ax = plt.subplots(figsize=(15, 8))\n",
    "index = np.arange(groups)\n",
    "\n",
    "rects1 = plt.bar(index, validList, 0.35, alpha=0.8, color='b', label='Valid answers')\n",
    "rects2 = plt.bar(index + 0.35, correctList, 0.35, alpha=0.8, color='g', label='Correct answers')\n",
    "\n",
    "plt.xlabel('Model')\n",
    "plt.ylabel('Questions')\n",
    "plt.title('Valid VS. Correct Answers')\n",
    "plt.xticks(index + 0.35 / 2, objects)\n",
    "plt.legend()\n",
    "\n",
    "plt.tight_layout()\n",
    "plt.show()\n",
    "\n"
   ]
  },
  {
   "cell_type": "code",
   "execution_count": 90,
   "outputs": [],
   "source": [
    "# ------- Task 3 -------\n",
    "\n",
    "# -- Load and preprocess each book --\n",
    "\n",
    "def read_file(file_path):\n",
    "    with open(file_path, 'r', encoding='utf-8') as file:\n",
    "        return file.read()\n",
    "\n",
    "def preprocess_text(text):\n",
    "    # Split the text into a list of sentences\n",
    "    sentences = sent_tokenize(text) \n",
    "    \n",
    "    # Split each sentence into a list of words, resulting in a list of lists of words\n",
    "    sentences_words = [word_tokenize(sentence.lower()) for sentence in sentences]\n",
    "    \n",
    "    return sentences_words\n",
    "\n",
    "book_paths = [\n",
    "    'gutenberg/Title- In Bad Company, and other stories Author- Rolf Boldrewood.txt',\n",
    "    'gutenberg/Title- Pride and Prejudice Author- Jane Austen.txt',\n",
    "    'gutenberg/Title- The Great Gatsby Author- F. Scott Fitzgerald.txt',\n",
    "    'gutenberg/Title- Working North from Patagonia Author- Harry Alverson Franck .txt',\n",
    "    'gutenberg/Title- The Way We Live Now Author- Anthony Trollope.txt',\n",
    "    'gutenberg/Title- Moby Dick; Or, The Whale Author- Herman Melville.txt',\n",
    "    'gutenberg/Title- The party battles of the Jackson period Author- Claude G. Bowers.txt'\n",
    "]\n",
    "\n",
    "books = [read_file(book_file) for book_file in book_paths]\n",
    "\n",
    "# Preprocess all books and append all of their sentences to a single list\n",
    "all_sentences = []\n",
    "for book in books:\n",
    "    all_sentences.extend(preprocess_text(book))"
   ],
   "metadata": {
    "collapsed": false,
    "ExecuteTime": {
     "end_time": "2023-12-04T02:31:06.502822Z",
     "start_time": "2023-12-04T02:30:57.665206Z"
    }
   }
  },
  {
   "cell_type": "code",
   "execution_count": 91,
   "outputs": [],
   "source": [
    "# -- Train Word2Vec models from our sentences --\n",
    "\n",
    "# Try 2 different window sizes, and 2 different embedding sizes\n",
    "window_sizes = [5, 10]\n",
    "embedding_sizes = [100, 300]\n",
    "\n",
    "custom_models = []\n",
    "for window_size in window_sizes:\n",
    "    for embedding_size in embedding_sizes:\n",
    "        model = Word2Vec(sentences=all_sentences,\n",
    "                         window=window_size, vector_size=embedding_size)\n",
    "        custom_models.append(model)"
   ],
   "metadata": {
    "collapsed": false,
    "ExecuteTime": {
     "end_time": "2023-12-04T02:31:58.429524Z",
     "start_time": "2023-12-04T02:31:30.427823Z"
    }
   }
  },
  {
   "cell_type": "code",
   "execution_count": 92,
   "outputs": [],
   "source": [
    "# -- Create synonym search csv files --\n",
    "\n",
    "def compute_synonyms(model, output_path):\n",
    "    correct = 0 # variable to count correct guess words\n",
    "    valid = 0 # variable to count valid guess words\n",
    "    \n",
    "    # Open synonym.csv in read mode\n",
    "    with open('synonym.csv', mode='r') as dataset:\n",
    "    \n",
    "        csv_reader = csv.reader(dataset, delimiter=',')\n",
    "        line_count = 0 # variable to count number of lines\n",
    "        \n",
    "        # Open word2vec-google-news-300-details.csv in write mode\n",
    "        with open(output_path, mode='w', newline='') as details:\n",
    "            csv_writer = csv.writer(details)\n",
    "    \n",
    "            # For every row in synonym.csv\n",
    "            for row in csv_reader:\n",
    "                # csv Headings\n",
    "                if line_count == 0:\n",
    "                    csv_writer.writerow(['question-word', 'answer-word', 'guess-word', 'label'])\n",
    "                else:\n",
    "                    score_dict = {} # dictionary for score-word pairs\n",
    "                    random_word = random.randint(2,5) # random integer between 2 and 5 (inclusive)\n",
    "    \n",
    "                    # If either question-word or all four guess-words are not in model, guess randomly\n",
    "                    if row[0] not in model or (row[2] not in model and row[3] not in model and row[4] not in model and row[5] not in model):\n",
    "                        in_model = False\n",
    "                        guess_word = row[random_word]\n",
    "    \n",
    "                    else: \n",
    "                        in_model = True\n",
    "    \n",
    "                        # Compute similarities of scores of question-word and guess-word and append them as key-value pairs to the dictionary\n",
    "                        for i in range(2, 6):\n",
    "                            if row[i] in model:\n",
    "                                score = model.similarity(row[0], row[i])\n",
    "                                score_dict[score] = row[i]\n",
    "    \n",
    "                        # Get the word with the highest score\n",
    "                        guess_word = score_dict[max(score_dict)]\n",
    "    \n",
    "                    # Label the system's guess\n",
    "                    if not in_model:\n",
    "                        label = \"guess\"\n",
    "                    elif guess_word == row[1]:\n",
    "                        correct += 1\n",
    "                        valid += 1\n",
    "                        label = \"correct\"\n",
    "                    else:\n",
    "                        valid += 1\n",
    "                        label = \"wrong\"\n",
    "    \n",
    "                    csv_writer.writerow([row[0], row[1], guess_word, label]) # write final result to csv\n",
    "                \n",
    "                line_count += 1\n",
    "\n",
    "    return correct, valid"
   ],
   "metadata": {
    "collapsed": false,
    "ExecuteTime": {
     "end_time": "2023-12-04T02:32:10.061547Z",
     "start_time": "2023-12-04T02:32:10.044597Z"
    }
   }
  },
  {
   "cell_type": "code",
   "execution_count": 111,
   "outputs": [
    {
     "data": {
      "text/plain": "<Figure size 700x500 with 1 Axes>",
      "image/png": "[encoded data removed]"
     },
     "metadata": {},
     "output_type": "display_data"
    }
   ],
   "source": [
    "# -- Update analysis.csv and compare model performance --\n",
    "\n",
    "# Create lists to store data for plotting\n",
    "model_names = []\n",
    "accuracies = []\n",
    "\n",
    "for custom_model in custom_models:\n",
    "    model_name = f'word2vec-custom-E{custom_model.vector_size}-W{custom_model.window}'\n",
    "    vocab_size = len(custom_model.wv.key_to_index)\n",
    "    correct_count, valid_count = compute_synonyms(custom_model.wv, f'{model_name}-details.csv')\n",
    "    accuracy_ = correct_count / valid_count\n",
    "\n",
    "    # Append analysis results to csv file\n",
    "    with open('analysis.csv', mode='a', newline='') as details:\n",
    "        csv_writer = csv.writer(details)\n",
    "        csv_writer.writerow([model_name, vocab_size, correct_count, valid_count, accuracy_])  # analysis results\n",
    "        csv_writer.writerow(\"\")\n",
    "        \n",
    "    # Save data for plotting\n",
    "    model_names.append(f'E{custom_model.vector_size} W{custom_model.window}')\n",
    "    accuracies.append(accuracy_)\n",
    "\n",
    "# Plotting\n",
    "plt.close()\n",
    "y_pos = np.arange(len(model_names))\n",
    "\n",
    "plt.figure(figsize=(7,5))\n",
    "plt.bar(y_pos, accuracies)\n",
    "plt.xticks(y_pos, model_names, rotation=10)\n",
    "plt.ylabel('Accuracy')\n",
    "plt.title('Accuracy of Different Custom Models')\n",
    "\n",
    "plt.show()\n"
   ],
   "metadata": {
    "collapsed": false,
    "ExecuteTime": {
     "end_time": "2023-12-04T03:09:41.351696Z",
     "start_time": "2023-12-04T03:09:41.183003Z"
    }
   }
  }
 ],
 "metadata": {
  "kernelspec": {
   "display_name": "Python 3",
   "language": "python",
   "name": "python3"
  },
  "language_info": {
   "codemirror_mode": {
    "name": "ipython",
    "version": 3
   },
   "file_extension": ".py",
   "mimetype": "text/x-python",
   "name": "python",
   "nbconvert_exporter": "python",
   "pygments_lexer": "ipython3",
   "version": "3.10.11"
  }
 },
 "nbformat": 4,
 "nbformat_minor": 2
}
